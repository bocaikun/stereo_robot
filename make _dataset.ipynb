{
 "cells": [
  {
   "cell_type": "code",
   "execution_count": 1,
   "metadata": {},
   "outputs": [],
   "source": [
    "from glob import glob\n",
    "import numpy as np\n",
    "import matplotlib.pyplot as plt\n",
    "import os, sys, json, cv2\n",
    "import glob\n",
    "import pandas as pd"
   ]
  },
  {
   "cell_type": "code",
   "execution_count": 2,
   "metadata": {},
   "outputs": [
    {
     "name": "stdout",
     "output_type": "stream",
     "text": [
      "['data/original/20220528_170930/train\\\\0\\\\csv\\\\train_l.csv', 'data/original/20220528_170930/train\\\\1\\\\csv\\\\train_l.csv', 'data/original/20220528_170930/train\\\\10\\\\csv\\\\train_l.csv', 'data/original/20220528_170930/train\\\\100\\\\csv\\\\train_l.csv', 'data/original/20220528_170930/train\\\\101\\\\csv\\\\train_l.csv', 'data/original/20220528_170930/train\\\\102\\\\csv\\\\train_l.csv', 'data/original/20220528_170930/train\\\\103\\\\csv\\\\train_l.csv', 'data/original/20220528_170930/train\\\\104\\\\csv\\\\train_l.csv', 'data/original/20220528_170930/train\\\\105\\\\csv\\\\train_l.csv', 'data/original/20220528_170930/train\\\\106\\\\csv\\\\train_l.csv', 'data/original/20220528_170930/train\\\\107\\\\csv\\\\train_l.csv', 'data/original/20220528_170930/train\\\\108\\\\csv\\\\train_l.csv', 'data/original/20220528_170930/train\\\\109\\\\csv\\\\train_l.csv', 'data/original/20220528_170930/train\\\\11\\\\csv\\\\train_l.csv', 'data/original/20220528_170930/train\\\\110\\\\csv\\\\train_l.csv', 'data/original/20220528_170930/train\\\\111\\\\csv\\\\train_l.csv', 'data/original/20220528_170930/train\\\\112\\\\csv\\\\train_l.csv', 'data/original/20220528_170930/train\\\\113\\\\csv\\\\train_l.csv', 'data/original/20220528_170930/train\\\\114\\\\csv\\\\train_l.csv', 'data/original/20220528_170930/train\\\\115\\\\csv\\\\train_l.csv', 'data/original/20220528_170930/train\\\\116\\\\csv\\\\train_l.csv', 'data/original/20220528_170930/train\\\\117\\\\csv\\\\train_l.csv', 'data/original/20220528_170930/train\\\\118\\\\csv\\\\train_l.csv', 'data/original/20220528_170930/train\\\\119\\\\csv\\\\train_l.csv', 'data/original/20220528_170930/train\\\\12\\\\csv\\\\train_l.csv', 'data/original/20220528_170930/train\\\\120\\\\csv\\\\train_l.csv', 'data/original/20220528_170930/train\\\\121\\\\csv\\\\train_l.csv', 'data/original/20220528_170930/train\\\\122\\\\csv\\\\train_l.csv', 'data/original/20220528_170930/train\\\\123\\\\csv\\\\train_l.csv', 'data/original/20220528_170930/train\\\\124\\\\csv\\\\train_l.csv', 'data/original/20220528_170930/train\\\\125\\\\csv\\\\train_l.csv', 'data/original/20220528_170930/train\\\\126\\\\csv\\\\train_l.csv', 'data/original/20220528_170930/train\\\\127\\\\csv\\\\train_l.csv', 'data/original/20220528_170930/train\\\\128\\\\csv\\\\train_l.csv', 'data/original/20220528_170930/train\\\\129\\\\csv\\\\train_l.csv', 'data/original/20220528_170930/train\\\\13\\\\csv\\\\train_l.csv', 'data/original/20220528_170930/train\\\\130\\\\csv\\\\train_l.csv', 'data/original/20220528_170930/train\\\\131\\\\csv\\\\train_l.csv', 'data/original/20220528_170930/train\\\\132\\\\csv\\\\train_l.csv', 'data/original/20220528_170930/train\\\\133\\\\csv\\\\train_l.csv', 'data/original/20220528_170930/train\\\\134\\\\csv\\\\train_l.csv', 'data/original/20220528_170930/train\\\\135\\\\csv\\\\train_l.csv', 'data/original/20220528_170930/train\\\\136\\\\csv\\\\train_l.csv', 'data/original/20220528_170930/train\\\\137\\\\csv\\\\train_l.csv', 'data/original/20220528_170930/train\\\\138\\\\csv\\\\train_l.csv', 'data/original/20220528_170930/train\\\\139\\\\csv\\\\train_l.csv', 'data/original/20220528_170930/train\\\\14\\\\csv\\\\train_l.csv', 'data/original/20220528_170930/train\\\\140\\\\csv\\\\train_l.csv', 'data/original/20220528_170930/train\\\\141\\\\csv\\\\train_l.csv', 'data/original/20220528_170930/train\\\\142\\\\csv\\\\train_l.csv', 'data/original/20220528_170930/train\\\\143\\\\csv\\\\train_l.csv', 'data/original/20220528_170930/train\\\\144\\\\csv\\\\train_l.csv', 'data/original/20220528_170930/train\\\\145\\\\csv\\\\train_l.csv', 'data/original/20220528_170930/train\\\\146\\\\csv\\\\train_l.csv', 'data/original/20220528_170930/train\\\\147\\\\csv\\\\train_l.csv', 'data/original/20220528_170930/train\\\\148\\\\csv\\\\train_l.csv', 'data/original/20220528_170930/train\\\\149\\\\csv\\\\train_l.csv', 'data/original/20220528_170930/train\\\\15\\\\csv\\\\train_l.csv', 'data/original/20220528_170930/train\\\\16\\\\csv\\\\train_l.csv', 'data/original/20220528_170930/train\\\\17\\\\csv\\\\train_l.csv', 'data/original/20220528_170930/train\\\\18\\\\csv\\\\train_l.csv', 'data/original/20220528_170930/train\\\\19\\\\csv\\\\train_l.csv', 'data/original/20220528_170930/train\\\\2\\\\csv\\\\train_l.csv', 'data/original/20220528_170930/train\\\\20\\\\csv\\\\train_l.csv', 'data/original/20220528_170930/train\\\\21\\\\csv\\\\train_l.csv', 'data/original/20220528_170930/train\\\\22\\\\csv\\\\train_l.csv', 'data/original/20220528_170930/train\\\\23\\\\csv\\\\train_l.csv', 'data/original/20220528_170930/train\\\\24\\\\csv\\\\train_l.csv', 'data/original/20220528_170930/train\\\\25\\\\csv\\\\train_l.csv', 'data/original/20220528_170930/train\\\\26\\\\csv\\\\train_l.csv', 'data/original/20220528_170930/train\\\\27\\\\csv\\\\train_l.csv', 'data/original/20220528_170930/train\\\\28\\\\csv\\\\train_l.csv', 'data/original/20220528_170930/train\\\\29\\\\csv\\\\train_l.csv', 'data/original/20220528_170930/train\\\\3\\\\csv\\\\train_l.csv', 'data/original/20220528_170930/train\\\\30\\\\csv\\\\train_l.csv', 'data/original/20220528_170930/train\\\\31\\\\csv\\\\train_l.csv', 'data/original/20220528_170930/train\\\\32\\\\csv\\\\train_l.csv', 'data/original/20220528_170930/train\\\\33\\\\csv\\\\train_l.csv', 'data/original/20220528_170930/train\\\\34\\\\csv\\\\train_l.csv', 'data/original/20220528_170930/train\\\\35\\\\csv\\\\train_l.csv', 'data/original/20220528_170930/train\\\\36\\\\csv\\\\train_l.csv', 'data/original/20220528_170930/train\\\\37\\\\csv\\\\train_l.csv', 'data/original/20220528_170930/train\\\\38\\\\csv\\\\train_l.csv', 'data/original/20220528_170930/train\\\\39\\\\csv\\\\train_l.csv', 'data/original/20220528_170930/train\\\\4\\\\csv\\\\train_l.csv', 'data/original/20220528_170930/train\\\\40\\\\csv\\\\train_l.csv', 'data/original/20220528_170930/train\\\\41\\\\csv\\\\train_l.csv', 'data/original/20220528_170930/train\\\\42\\\\csv\\\\train_l.csv', 'data/original/20220528_170930/train\\\\43\\\\csv\\\\train_l.csv', 'data/original/20220528_170930/train\\\\44\\\\csv\\\\train_l.csv', 'data/original/20220528_170930/train\\\\45\\\\csv\\\\train_l.csv', 'data/original/20220528_170930/train\\\\46\\\\csv\\\\train_l.csv', 'data/original/20220528_170930/train\\\\47\\\\csv\\\\train_l.csv', 'data/original/20220528_170930/train\\\\48\\\\csv\\\\train_l.csv', 'data/original/20220528_170930/train\\\\49\\\\csv\\\\train_l.csv', 'data/original/20220528_170930/train\\\\5\\\\csv\\\\train_l.csv', 'data/original/20220528_170930/train\\\\50\\\\csv\\\\train_l.csv', 'data/original/20220528_170930/train\\\\51\\\\csv\\\\train_l.csv', 'data/original/20220528_170930/train\\\\52\\\\csv\\\\train_l.csv', 'data/original/20220528_170930/train\\\\53\\\\csv\\\\train_l.csv', 'data/original/20220528_170930/train\\\\54\\\\csv\\\\train_l.csv', 'data/original/20220528_170930/train\\\\55\\\\csv\\\\train_l.csv', 'data/original/20220528_170930/train\\\\56\\\\csv\\\\train_l.csv', 'data/original/20220528_170930/train\\\\57\\\\csv\\\\train_l.csv', 'data/original/20220528_170930/train\\\\58\\\\csv\\\\train_l.csv', 'data/original/20220528_170930/train\\\\59\\\\csv\\\\train_l.csv', 'data/original/20220528_170930/train\\\\6\\\\csv\\\\train_l.csv', 'data/original/20220528_170930/train\\\\60\\\\csv\\\\train_l.csv', 'data/original/20220528_170930/train\\\\61\\\\csv\\\\train_l.csv', 'data/original/20220528_170930/train\\\\62\\\\csv\\\\train_l.csv', 'data/original/20220528_170930/train\\\\63\\\\csv\\\\train_l.csv', 'data/original/20220528_170930/train\\\\64\\\\csv\\\\train_l.csv', 'data/original/20220528_170930/train\\\\65\\\\csv\\\\train_l.csv', 'data/original/20220528_170930/train\\\\66\\\\csv\\\\train_l.csv', 'data/original/20220528_170930/train\\\\67\\\\csv\\\\train_l.csv', 'data/original/20220528_170930/train\\\\68\\\\csv\\\\train_l.csv', 'data/original/20220528_170930/train\\\\69\\\\csv\\\\train_l.csv', 'data/original/20220528_170930/train\\\\7\\\\csv\\\\train_l.csv', 'data/original/20220528_170930/train\\\\70\\\\csv\\\\train_l.csv', 'data/original/20220528_170930/train\\\\71\\\\csv\\\\train_l.csv', 'data/original/20220528_170930/train\\\\72\\\\csv\\\\train_l.csv', 'data/original/20220528_170930/train\\\\73\\\\csv\\\\train_l.csv', 'data/original/20220528_170930/train\\\\74\\\\csv\\\\train_l.csv', 'data/original/20220528_170930/train\\\\75\\\\csv\\\\train_l.csv', 'data/original/20220528_170930/train\\\\76\\\\csv\\\\train_l.csv', 'data/original/20220528_170930/train\\\\77\\\\csv\\\\train_l.csv', 'data/original/20220528_170930/train\\\\78\\\\csv\\\\train_l.csv', 'data/original/20220528_170930/train\\\\79\\\\csv\\\\train_l.csv', 'data/original/20220528_170930/train\\\\8\\\\csv\\\\train_l.csv', 'data/original/20220528_170930/train\\\\80\\\\csv\\\\train_l.csv', 'data/original/20220528_170930/train\\\\81\\\\csv\\\\train_l.csv', 'data/original/20220528_170930/train\\\\82\\\\csv\\\\train_l.csv', 'data/original/20220528_170930/train\\\\83\\\\csv\\\\train_l.csv', 'data/original/20220528_170930/train\\\\84\\\\csv\\\\train_l.csv', 'data/original/20220528_170930/train\\\\85\\\\csv\\\\train_l.csv', 'data/original/20220528_170930/train\\\\86\\\\csv\\\\train_l.csv', 'data/original/20220528_170930/train\\\\87\\\\csv\\\\train_l.csv', 'data/original/20220528_170930/train\\\\88\\\\csv\\\\train_l.csv', 'data/original/20220528_170930/train\\\\89\\\\csv\\\\train_l.csv', 'data/original/20220528_170930/train\\\\9\\\\csv\\\\train_l.csv', 'data/original/20220528_170930/train\\\\90\\\\csv\\\\train_l.csv', 'data/original/20220528_170930/train\\\\91\\\\csv\\\\train_l.csv', 'data/original/20220528_170930/train\\\\92\\\\csv\\\\train_l.csv', 'data/original/20220528_170930/train\\\\93\\\\csv\\\\train_l.csv', 'data/original/20220528_170930/train\\\\94\\\\csv\\\\train_l.csv', 'data/original/20220528_170930/train\\\\95\\\\csv\\\\train_l.csv', 'data/original/20220528_170930/train\\\\96\\\\csv\\\\train_l.csv', 'data/original/20220528_170930/train\\\\97\\\\csv\\\\train_l.csv', 'data/original/20220528_170930/train\\\\98\\\\csv\\\\train_l.csv', 'data/original/20220528_170930/train\\\\99\\\\csv\\\\train_l.csv']\n"
     ]
    }
   ],
   "source": [
    "data_id = '20220528_170930'\n",
    "train_csv_path_list = glob.glob('data/original/%s/train/*/csv/*.csv'%data_id)\n",
    "train_left_path_list = glob.glob('data/original/{}/train/*/image/left_images/'.format(data_id))\n",
    "train_right_path_list = glob.glob('data/original/{}/train/*/image/right_images/'.format(data_id))\n",
    "print(train_csv_path_list)"
   ]
  },
  {
   "cell_type": "code",
   "execution_count": 3,
   "metadata": {},
   "outputs": [],
   "source": [
    "def normalize(data, in_range, out_range):\n",
    "    in_range = np.array(in_range).astype(np.float32)\n",
    "    compressed = (data - in_range.min()) / (in_range.max() - in_range.min())\n",
    "    stretched = compressed * (out_range[1] - out_range[0]) + out_range[0]\n",
    "    return stretched\n",
    "\n",
    "def csv_pack(csv_path, mode=0):\n",
    "    if mode == 0:\n",
    "        ypos_range = [0.645, 0.945] #0\n",
    "        xpos_range = [-0.45, 0.45] #1\n",
    "        zpos_range = [0.645, 0.665] #2\n",
    "        rx_range = [1.5707965*0.99, 1.5707965*1.01] #3\n",
    "        ry_range = [3.141593*0.99, 3.141593*1.01] #4\n",
    "        rz_range = [1.5707965*0.45, 1.5707965*1.55] #5\n",
    "        \n",
    "        csv_pd = pd.read_csv(csv_path, index_col=None, header=None)\n",
    "        csv_np = csv_pd.to_numpy()\n",
    "\n",
    "        csv_np[:, 0] = normalize(csv_np[:, 0], ypos_range, [0., 1.])\n",
    "        csv_np[:, 1] = normalize(csv_np[:, 1], xpos_range, [0., 1.])\n",
    "        csv_np[:, 2] = normalize(csv_np[:, 2], zpos_range, [0., 1.])\n",
    "        csv_np[:, 3] = normalize(csv_np[:, 3], rx_range, [0., 1.])\n",
    "        csv_np[:, 4] = normalize(csv_np[:, 4], ry_range, [0., 1.])\n",
    "        csv_np[:, 5] = normalize(csv_np[:, 5], rz_range, [0., 1.])\n",
    "        # print(\"csv dataset shape\", csv_np.shape)\n",
    "    return csv_np\n",
    "\n",
    "def img_pack(img_path, size=112, norm=True):\n",
    "    imgs_list = list(os.listdir(img_path))\n",
    "    #imgs_num = len(imgs_list)\n",
    "    imgs_dataset = []\n",
    "    for i in imgs_list:\n",
    "        img = cv2.imread(img_path+str(i),cv2.IMREAD_COLOR)\n",
    "        img = cv2.resize(img, (size, size))\n",
    "        b,g,r = cv2.split(img)\n",
    "        img = cv2.merge((r,g,b))\n",
    "        imgs_dataset.append(img)\n",
    "    imgs_dataset = np.array(imgs_dataset)\n",
    "    imgs_dataset = np.transpose(imgs_dataset, [0,3,2,1]) \n",
    "    if norm == True:\n",
    "        imgs_dataset = normalize(imgs_dataset, [0., 255.], [0., 1.])\n",
    "    # print(\"img dataset shape:\", imgs_dataset.shape)\n",
    "    return imgs_dataset"
   ]
  },
  {
   "cell_type": "code",
   "execution_count": 47,
   "metadata": {},
   "outputs": [
    {
     "name": "stdout",
     "output_type": "stream",
     "text": [
      "(150, 51, 6)\n"
     ]
    }
   ],
   "source": [
    "csv_list = []\n",
    "for path in train_csv_path_list:\n",
    "    csv = csv_pack(path)\n",
    "    csv_list.append(csv)\n",
    "print(np.array(csv_list).shape)"
   ]
  },
  {
   "cell_type": "code",
   "execution_count": 4,
   "metadata": {},
   "outputs": [
    {
     "name": "stdout",
     "output_type": "stream",
     "text": [
      "(150, 51, 3, 112, 112)\n"
     ]
    }
   ],
   "source": [
    "left_list = []\n",
    "for path in train_left_path_list:\n",
    "    left = img_pack(path)\n",
    "    left_list.append(left)\n",
    "print(np.array(left_list).shape)"
   ]
  },
  {
   "cell_type": "code",
   "execution_count": 60,
   "metadata": {},
   "outputs": [],
   "source": [
    "np.save('data/normalize/train/img.npy',np.array(left_list))\n",
    "np.save('data/normalize/train/joint.npy', np.array(csv_list))"
   ]
  },
  {
   "cell_type": "code",
   "execution_count": null,
   "metadata": {},
   "outputs": [],
   "source": []
  }
 ],
 "metadata": {
  "interpreter": {
   "hash": "9a8821dade8494a329c563a070766860970851ea154f80676b4dc6b23b5e07a1"
  },
  "kernelspec": {
   "display_name": "Python 3.9.7 ('mhitorch')",
   "language": "python",
   "name": "python3"
  },
  "language_info": {
   "codemirror_mode": {
    "name": "ipython",
    "version": 3
   },
   "file_extension": ".py",
   "mimetype": "text/x-python",
   "name": "python",
   "nbconvert_exporter": "python",
   "pygments_lexer": "ipython3",
   "version": "3.9.7"
  },
  "orig_nbformat": 4
 },
 "nbformat": 4,
 "nbformat_minor": 2
}
